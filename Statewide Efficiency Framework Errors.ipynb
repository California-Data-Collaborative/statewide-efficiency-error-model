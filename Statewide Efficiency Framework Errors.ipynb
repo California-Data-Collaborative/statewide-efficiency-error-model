{
 "cells": [
  {
   "cell_type": "code",
   "execution_count": 45,
   "metadata": {
    "collapsed": true
   },
   "outputs": [],
   "source": [
    "import pymc3 as pm\n",
    "import numpy as np\n",
    "%matplotlib inline\n",
    "from IPython.core.pylabtools import figsize\n",
    "import matplotlib.pyplot as plt\n",
    "import scipy.stats as stats\n",
    "import pandas as pd\n",
    "import random\n",
    "figsize(12.5, 4)"
   ]
  },
  {
   "cell_type": "markdown",
   "metadata": {},
   "source": [
    "## Landscape Error\n",
    "\n",
    "We model our estimated landscape area using 3 error components:\n",
    "\n",
    "$$\\hat{LA} = LA * \\epsilon_{classification} * \\epsilon_{boundary} * \\epsilon_{landuse}$$\n",
    "\n",
    "Where\n",
    "\n",
    "* $LA$ is the true amount of residential landscape area within the service area of a given utility.\n",
    "* $\\epsilon_{classification}$ is a percent error caused by improper classification in the land cover algorithm.\n",
    "* $\\epsilon_{boundary}$ is a percent error caused by clipping to an improper boundary polygon.\n",
    "* $\\epsilon_{landuse}$ is a percent error caused by clipping to improper residential areas."
   ]
  },
  {
   "cell_type": "markdown",
   "metadata": {},
   "source": [
    "### Classification Error\n",
    "\n",
    "Accuracy across the state has been assessed by taking a random sample of pixels and comparing these against reference labels assigned by a researcher. This pixel-based accuracy assessment is then used to generate error bounds on the total amount of estimated landscape area according to the methodology outlined by Olofsson et al. (2013).\n",
    "\n",
    "This results in a standard error of 3.8%. That is, $se_{classification} = 0.038$\n",
    "\n",
    "However, we expect the error to increase when classifying at the level of individual water retailers, and we model this through an increased variance of the classification error at the retailer level. Because we do not have a detailed accuracy assessment at this level, we must make an assumption about our prior beliefs.\n",
    "\n",
    "We do this by assuming that the retailer-level classification error is log-normally distributed with $mu=0$ and a standard error twice the statewide levels $2*se_{classification} = 0.076$.\n",
    "\n",
    "Our prior error term for the classification is thus\n",
    "\n",
    "$$\\epsilon_{classification} \\sim Lognormal(\\mu=0, \\sigma = 0.076)$$"
   ]
  },
  {
   "cell_type": "markdown",
   "metadata": {},
   "source": [
    "### Boundary Error\n",
    "\n",
    "The Utility boundary polygons utilized are not guaranteed to be correct, but manual inspection has shown that most of them are, and those with errors tend to be minor. To capture this we model our boundary error according to an assumed prior distribution as before. We err on the side of caution and choose a spread parameter of 0.1 (10%). This is larger than what is typically observed in practice.\n",
    "\n",
    "$$\\epsilon_{boundary} \\sim Lognormal(\\mu=0, \\sigma = 0.1)$$"
   ]
  },
  {
   "cell_type": "markdown",
   "metadata": {},
   "source": [
    "### Land Use Error\n",
    "\n",
    "The land use dataset used to isolate residential areas is similarly imperfect, but correct in the vast majority of cases. We model this error in the same manner as the boundary error because both result in multiplicative error caused by cropping of land cover classifications. Again, a spread parameter of 10% aligns with prior beliefs based on manual inspection.\n",
    "\n",
    "$$\\epsilon_{landuse} \\sim Lognormal(\\mu=0, \\sigma = 0.1)$$"
   ]
  },
  {
   "cell_type": "markdown",
   "metadata": {},
   "source": [
    "## ET Error"
   ]
  },
  {
   "cell_type": "markdown",
   "metadata": {},
   "source": [
    "There are several possible sources of error when estimating evapotranspiration (ET) using the algorithm described in the methodology document. Three major sources include\n",
    "1. Measurement/estimation error at CIMIS stations\n",
    "2. Algrithm-induced error caused by our estimation methodology (inverse distance-weighted average of 10 nearest stations to utility service area centroid)\n",
    "3. Approximation error caused by attributing a single point estimate of ET (at service area centroid) to all the landscape area in a service area that may span a large and diverse geographic region.\n",
    "\n",
    "The first source is out of our control, and no error bounds are provided in the CIMIS source data. The third is addressable in future iterations through the use of ET data with a higher spatial resolution and the creation of parcel-level outdoor water budgets. For now we do not model these, and instead focus on the second error source: error induced by our estimation algorithm.\n",
    "\n",
    "We can again model the errors as relative\n",
    "\n",
    "$$\\hat{ET} = ET * \\epsilon_{et}$$\n",
    "\n",
    "but this time we can measure the error distribution directly."
   ]
  },
  {
   "cell_type": "markdown",
   "metadata": {},
   "source": [
    "#### Error Calculation\n",
    "\n",
    "To briefly recap the current methodology, ET at a given point $p$ is estimated as the inverse distance-weighted average of the ET readings at the 10 nearest CIMIS stations to $p$, with more weight given to nearer stations and less weight given to more distant stations. \n",
    "\n",
    "When estimating utility targets, $p$ is chosen as the centroid of the utility service area. To estimate ET errors, we instead choose $p$ as the location of a CIMIS station, and estimate ET using the 10 nearest stations (excluding the one located at point $p$). This gives an estimated ET from our algorithm, as well as a true ET as measured by the station located at $p$. Relative errors are then calculated as $ET_{est} / ET_{true}$. \n",
    "\n",
    "The distribution of the errors for monthly ET is shown below."
   ]
  },
  {
   "cell_type": "code",
   "execution_count": 2,
   "metadata": {
    "collapsed": true
   },
   "outputs": [],
   "source": [
    "df = pd.read_csv(\"data/et_estimates_with_truth.csv\")"
   ]
  },
  {
   "cell_type": "code",
   "execution_count": 92,
   "metadata": {
    "collapsed": false,
    "scrolled": false
   },
   "outputs": [
    {
     "name": "stdout",
     "output_type": "stream",
     "text": [
      "Mean monthly error:  1.015\n",
      "Std. dev. of monthly error:  0.13\n",
      "5/95 percentiles:  [ 0.84088676  1.23041756]\n"
     ]
    },
    {
     "data": {
      "text/plain": [
       "<matplotlib.text.Text at 0x8268ed68>"
      ]
     },
     "execution_count": 92,
     "metadata": {},
     "output_type": "execute_result"
    },
    {
     "data": {
      "image/png": "[encoded data removed]",
      "text/plain": [
       "<matplotlib.figure.Figure at 0x815e16a0>"
      ]
     },
     "metadata": {},
     "output_type": "display_data"
    }
   ],
   "source": [
    "df_conditional = df #[df.et_month == 8]\n",
    "lognormal_et_accuracy = df_conditional.accuracy_ratio[df_conditional.accuracy_ratio < 3]\n",
    "\n",
    "## Landscape Error\n",
    "print \"Mean monthly error: \", np.round(lognormal_et_accuracy.mean(), 3)\n",
    "print \"Std. dev. of monthly error: \", np.round(lognormal_et_accuracy.std(), 3)\n",
    "print \"5/95 percentiles: \", np.percentile(lognormal_et_accuracy, [5, 95])\n",
    "lognormal_et_accuracy.hist(bins = 70)\n",
    "plt.title(\"Histogram of ET accuracy ratio\", fontsize=16)"
   ]
  },
  {
   "cell_type": "markdown",
   "metadata": {
    "collapsed": true
   },
   "source": [
    "## Overall Error"
   ]
  },
  {
   "cell_type": "markdown",
   "metadata": {},
   "source": [
    "The equation for the the estimated outdoor efficiency targets used in this methodology is\n",
    "\n",
    "$$Outdoor Target = Outdoor Standard * \\hat{LA} * \\hat{ET} * Conversion Factor$$\n",
    "\n",
    "Combining the outdoor standard and the conversion factor into a constant $C$, and substituting in our error models gives\n",
    "\n",
    "$$Outdoor Target = C * (LA *  \\epsilon_{classification} * \\epsilon_{boundary} * \\epsilon_{landuse}) * (ET* \\epsilon_{et})$$\n",
    "\n",
    "So, we can calculate the overall error for the outdoor target as the product of the individual error components. This is done using a monte carlo simulation, where random samples are drawn from our prior distributions, or from the empirical error distribution in the case of ET. "
   ]
  },
  {
   "cell_type": "code",
   "execution_count": 39,
   "metadata": {
    "collapsed": false
   },
   "outputs": [],
   "source": [
    "with pm.Model() as model:\n",
    "    et_prior = pm.Lognormal(\"et_prior\", mu=0, sd=0.1, observed=lognormal_et_accuracy)\n",
    "#     has_boundary_error = pm.Bernoulli(\"has_boundary_error\", p=0.5)\n",
    "    boundary_prior = pm.Lognormal(\"boundary_prior\", mu=0, sd=0.1)\n",
    "    landuse_prior = pm.Lognormal(\"landuse_prior\", mu=0, sd=0.1)\n",
    "    classification_prior = pm.Lognormal(\"classification_prior\", mu=0, sd=2*0.038)\n",
    "    outdoor_error_dist = pm.Deterministic(\"outdoor_error_dist\", et_prior*boundary_prior*landuse_prior*classification_prior)"
   ]
  },
  {
   "cell_type": "code",
   "execution_count": 68,
   "metadata": {
    "collapsed": false
   },
   "outputs": [],
   "source": [
    "class_samples = [random.choice(list(lognormal_et_accuracy))*boundary_prior.random()*landuse_prior.random()*classification_prior.random() for i in xrange(20000)]"
   ]
  },
  {
   "cell_type": "code",
   "execution_count": 96,
   "metadata": {
    "collapsed": false,
    "scrolled": false
   },
   "outputs": [
    {
     "name": "stdout",
     "output_type": "stream",
     "text": [
      "Mean monthly error:  1.03\n",
      "Std. dev. of monthly error:  0.214\n",
      "5/95 percentiles:  [ 0.73069255  1.407863  ]\n"
     ]
    },
    {
     "data": {
      "image/png": "[encoded data removed]",
      "text/plain": [
       "<matplotlib.figure.Figure at 0x1814af98>"
      ]
     },
     "metadata": {},
     "output_type": "display_data"
    }
   ],
   "source": [
    "overal_error_dist = pd.Series(class_samples)\n",
    "\n",
    "print \"Mean monthly error: \", np.round(overal_error_dist.mean(), 3)\n",
    "print \"Std. dev. of monthly error: \", np.round(overal_error_dist.std(), 3)\n",
    "print \"5/95 percentiles: \", np.percentile(overal_error_dist, [5, 95])\n",
    "\n",
    "\n",
    "overal_error_dist.hist(bins=70, normed=True, histtype=\"stepfilled\")\n",
    "plt.title(\"Overall relative error distribution for outdoor target$\", fontsize=16)\n",
    "figsize(12.5, 4)"
   ]
  },
  {
   "cell_type": "markdown",
   "metadata": {},
   "source": [
    "Under the previous assumptions, we can therefore expect 90% of the water retailers to have their true outdoor targets within approximately $\\pm$40% of the estimated target."
   ]
  },
  {
   "cell_type": "markdown",
   "metadata": {},
   "source": [
    "## References\n",
    "\n",
    "Olofsson, P., Foody, G. M., Stehman, S. V., & Woodcock, C. E. (2013). Making better use of accuracy data in land change studies: Estimating accuracy and area and quantifying uncertainty using stratified estimation. Remote Sensing of Environment, 129, 122-131."
   ]
  },
  {
   "cell_type": "markdown",
   "metadata": {},
   "source": [
    ".\n",
    "\n",
    ".\n",
    "\n",
    ".\n",
    "\n",
    ".\n",
    "\n",
    ".\n",
    "\n",
    ".\n",
    "\n",
    ".\n",
    "\n",
    ".\n",
    "\n",
    "."
   ]
  },
  {
   "cell_type": "markdown",
   "metadata": {},
   "source": [
    "# Older work (deprecated)"
   ]
  },
  {
   "cell_type": "markdown",
   "metadata": {},
   "source": [
    "## ET Error"
   ]
  },
  {
   "cell_type": "markdown",
   "metadata": {},
   "source": [
    "### Prior"
   ]
  },
  {
   "cell_type": "code",
   "execution_count": 97,
   "metadata": {
    "collapsed": false
   },
   "outputs": [],
   "source": [
    "et_prior_mean_AR = 0\n",
    "et_prior_sd_AR = 0.2\n",
    "et_log_mean= np.log(prior_mean_AR)\n",
    "et_log_sd= np.log(prior_sd_AR)\n",
    "\n",
    "with pm.Model() as model:\n",
    "    et_prior = pm.Normal(\"et_prior\", mu=et_prior_mean_AR, sd=et_prior_sd_AR)"
   ]
  },
  {
   "cell_type": "code",
   "execution_count": 98,
   "metadata": {
    "collapsed": false
   },
   "outputs": [],
   "source": [
    "et_samples = [et_prior.random() for i in xrange(4000)]"
   ]
  },
  {
   "cell_type": "code",
   "execution_count": 100,
   "metadata": {
    "collapsed": false
   },
   "outputs": [
    {
     "data": {
      "image/png": "[encoded data removed]",
      "text/plain": [
       "<matplotlib.figure.Figure at 0x13055cc0>"
      ]
     },
     "metadata": {},
     "output_type": "display_data"
    }
   ],
   "source": [
    "plt.hist(et_samples, bins=40, normed=True, histtype=\"stepfilled\")\n",
    "plt.title(\"Prior distribution for $\\epsilon_{et}$\", fontsize=20)\n",
    "figsize(12.5, 4)"
   ]
  },
  {
   "cell_type": "markdown",
   "metadata": {},
   "source": [
    "## Boundary Error"
   ]
  },
  {
   "cell_type": "markdown",
   "metadata": {},
   "source": [
    "Utility boundary polygons are not guaranteed to be correct, however we assume that many (most?) of them are. Thus we model the actual utility landscape area $LA^\\star$ as a function of our estimated utility landscape area ($\\hat{LA}$) plus a relative error term:\n",
    "\n",
    "$$LA^\\star = \\hat{LA} + \\hat{LA} \\times \\epsilon_{boundary} = \\hat{LA} \\times (1 + \\epsilon_{boundary})$$\n",
    "\n",
    "\n",
    "Since we don't have data on how our boundary error is distrubuted, we must assume a prior. We could model $ \\epsilon_{boundary}$ as normally distributed, but that would ignore our prior knowledge that most of the boundaries are correct. Instead we model $ \\epsilon_{boundary}$ as\n",
    "\n",
    "$$\\epsilon_{boundary} = Bernoulli(p_b) \\times N(\\mu_b, \\sigma_b^2)$$\n",
    "\n",
    "Where \n",
    "\n",
    "$p_b$ is the probability of the boundary being **incorrect**, and\n",
    "\n",
    "$N(\\mu_b, \\sigma_b^2)$ describes the distribution of the relative magnitude of the error."
   ]
  },
  {
   "cell_type": "markdown",
   "metadata": {},
   "source": [
    "We assume values for our prior parameters"
   ]
  },
  {
   "cell_type": "code",
   "execution_count": 105,
   "metadata": {
    "collapsed": true
   },
   "outputs": [],
   "source": [
    "p_b = 0.5\n",
    "mu_b = 0\n",
    "sd_b = 0.1"
   ]
  },
  {
   "cell_type": "code",
   "execution_count": 106,
   "metadata": {
    "collapsed": false
   },
   "outputs": [],
   "source": [
    "with pm.Model() as model:\n",
    "    has_boundary_error = pm.Bernoulli(\"has_boundary_error\", p=p_b)\n",
    "    boundary_error_dist = pm.Normal(\"boundary_error_dist\", mu=mu_b, sd=sd_b)\n",
    "#     boundary_prior = pm.Deterministic(\"boundary_prior\", has_boundary_error*boundary_error_dist)"
   ]
  },
  {
   "cell_type": "code",
   "execution_count": 107,
   "metadata": {
    "collapsed": false
   },
   "outputs": [],
   "source": [
    "boundary_samples = [has_boundary_error.random()*boundary_error_dist.random() for i in xrange(4000)]"
   ]
  },
  {
   "cell_type": "code",
   "execution_count": 109,
   "metadata": {
    "collapsed": false,
    "scrolled": true
   },
   "outputs": [
    {
     "data": {
      "image/png": "[encoded data removed]",
      "text/plain": [
       "<matplotlib.figure.Figure at 0x11ef2a20>"
      ]
     },
     "metadata": {},
     "output_type": "display_data"
    }
   ],
   "source": [
    "plt.hist(boundary_samples, bins=23, normed=True, histtype=\"stepfilled\")\n",
    "plt.title(\"Prior distribution for $\\epsilon_{boundary}$\", fontsize=16)\n",
    "figsize(12.5, 4)"
   ]
  },
  {
   "cell_type": "markdown",
   "metadata": {},
   "source": [
    "## Classification error"
   ]
  },
  {
   "cell_type": "code",
   "execution_count": 140,
   "metadata": {
    "collapsed": true
   },
   "outputs": [],
   "source": [
    "??pm.Exponential"
   ]
  },
  {
   "cell_type": "code",
   "execution_count": 67,
   "metadata": {
    "collapsed": false
   },
   "outputs": [
    {
     "data": {
      "text/plain": [
       "0.038000000000000006"
      ]
     },
     "execution_count": 67,
     "metadata": {},
     "output_type": "execute_result"
    }
   ],
   "source": [
    "np.exp(np.log(.038))"
   ]
  },
  {
   "cell_type": "code",
   "execution_count": 88,
   "metadata": {
    "collapsed": true
   },
   "outputs": [],
   "source": [
    "with pm.Model() as model:\n",
    "    class_sd = pm.Exponential(\"class_sd\", lam=7.6)\n",
    "    class_sd2 = pm.Lognormal(\"class_sd2\", mu=np.log(.038), sd=0.4 )\n",
    "    class_dist = pm.Normal(\"class_dist\", mu=0, sd=2*0.038)"
   ]
  },
  {
   "cell_type": "code",
   "execution_count": 89,
   "metadata": {
    "collapsed": false
   },
   "outputs": [],
   "source": [
    "class_samples = [class_dist.random() for i in xrange(4000)]"
   ]
  },
  {
   "cell_type": "code",
   "execution_count": 90,
   "metadata": {
    "collapsed": false
   },
   "outputs": [
    {
     "data": {
      "text/plain": [
       "array([-0.15285675,  0.14875167])"
      ]
     },
     "execution_count": 90,
     "metadata": {},
     "output_type": "execute_result"
    }
   ],
   "source": [
    "np.percentile(class_samples, [2.5,97.5])"
   ]
  },
  {
   "cell_type": "code",
   "execution_count": 91,
   "metadata": {
    "collapsed": false
   },
   "outputs": [
    {
     "data": {
      "image/png": "[encoded data removed]",
      "text/plain": [
       "<matplotlib.figure.Figure at 0xf2a2ac8>"
      ]
     },
     "metadata": {},
     "output_type": "display_data"
    }
   ],
   "source": [
    "plt.hist(class_samples, bins=70, normed=True, histtype=\"stepfilled\")\n",
    "plt.title(\"Prior distribution for $\\epsilon_{c}$\", fontsize=16)\n",
    "figsize(12.5, 4)"
   ]
  },
  {
   "cell_type": "code",
   "execution_count": 24,
   "metadata": {
    "collapsed": false
   },
   "outputs": [
    {
     "data": {
      "text/plain": [
       "array([-0.06114859,  0.06132485])"
      ]
     },
     "execution_count": 24,
     "metadata": {},
     "output_type": "execute_result"
    }
   ],
   "source": [
    "np.percentile(class_samples, [5,95])"
   ]
  },
  {
   "cell_type": "code",
   "execution_count": 135,
   "metadata": {
    "collapsed": false
   },
   "outputs": [],
   "source": [
    "acc = np.array([[307, 50],[25,615]],  np.int32)"
   ]
  },
  {
   "cell_type": "code",
   "execution_count": 138,
   "metadata": {
    "collapsed": false
   },
   "outputs": [
    {
     "data": {
      "text/plain": [
       "640"
      ]
     },
     "execution_count": 138,
     "metadata": {},
     "output_type": "execute_result"
    }
   ],
   "source": [
    "Other = 0\n",
    "PSAV = 1\n",
    "\n",
    "j = PSAV #class of interest is PSAV area\n",
    "\n",
    "W_other = \n",
    "\n",
    "\n",
    "s_pj = snp.sum(acc[1])"
   ]
  },
  {
   "cell_type": "markdown",
   "metadata": {},
   "source": [
    "CGU provided a pixel-based classification accuracy of 89%. Restated this means that 11% of pixels are incorrectly classified. However, we can't directly translate a pixel-based classification error of 0.11 into error bounds on landscape area (e.g. $\\pm$11%). Fortunately, we can work around this by embedding our pixel error into a probabilistic framework describing how aggregate landscape area responds to changes in pixel classification error."
   ]
  },
  {
   "cell_type": "markdown",
   "metadata": {},
   "source": [
    "To begin, we treat our classifier $CILA$ as binary (1 = Landscape Area, 0 = Other area). For a given pixel $i$, we model the classification as the true value of the pixel, $T \\in \\{1,0\\}$ plus an error term\n",
    "\n",
    "$$CILA_i = T_i +  S(T_i)*\\epsilon_c$$\n",
    "\n",
    "where $S$ is an indicator function equal to $1$ if $T_i=0$, and $-1$ if $T_i=1$\n",
    "\n",
    "Doing this allows us to model $\\epsilon_c$ as a Bernoulli random variable equal to $1$ for a misclassification. That is \n",
    "\n",
    "$$\\epsilon_c = Bernoulli(0.11)$$\n",
    "\n",
    "To get the error for\n",
    "\n"
   ]
  },
  {
   "cell_type": "markdown",
   "metadata": {},
   "source": [
    "$$\\epsilon_p = Bernoulli(0.11) * (2 * Bernoulli(0.5) - 1)$$\n"
   ]
  },
  {
   "cell_type": "code",
   "execution_count": 123,
   "metadata": {
    "collapsed": true
   },
   "outputs": [],
   "source": [
    "p_c = 0.11\n",
    "mu_ac = 0.6\n",
    "sd_ac = 0.1"
   ]
  },
  {
   "cell_type": "code",
   "execution_count": 126,
   "metadata": {
    "collapsed": false
   },
   "outputs": [],
   "source": [
    "with pm.Model() as model:\n",
    "    class_is_incorrect = pm.Bernoulli(\"class_is_incorrect\", p=p_c)\n",
    "#     autocorrelation = pm.Normal(\"autocorrelation\", mu=mu_ac, sd=sd_ac)\n",
    "    class_error_direction = pm.Bernoulli(\"class_error_direction\", p=0.7)\n",
    "    \n",
    "    utility_class_error"
   ]
  },
  {
   "cell_type": "code",
   "execution_count": 127,
   "metadata": {
    "collapsed": false
   },
   "outputs": [],
   "source": [
    "class_samples = [class_is_incorrect.random()*(2*class_error_direction.random() - 1) for i in xrange(4000)]"
   ]
  },
  {
   "cell_type": "code",
   "execution_count": 128,
   "metadata": {
    "collapsed": false
   },
   "outputs": [
    {
     "data": {
      "text/plain": [
       "208"
      ]
     },
     "execution_count": 128,
     "metadata": {},
     "output_type": "execute_result"
    }
   ],
   "source": [
    "np.sum(class_samples)"
   ]
  },
  {
   "cell_type": "code",
   "execution_count": 129,
   "metadata": {
    "collapsed": false,
    "scrolled": true
   },
   "outputs": [
    {
     "data": {
      "image/png": "[encoded data removed]",
      "text/plain": [
       "<matplotlib.figure.Figure at 0x130c3748>"
      ]
     },
     "metadata": {},
     "output_type": "display_data"
    }
   ],
   "source": [
    "plt.hist(class_samples, bins=70, normed=True, histtype=\"stepfilled\")\n",
    "plt.title(\"Prior distribution for $\\epsilon_{boundary}$\", fontsize=16)\n",
    "figsize(12.5, 4)"
   ]
  }
 ],
 "metadata": {
  "kernelspec": {
   "display_name": "Python 2",
   "language": "python",
   "name": "python2"
  },
  "language_info": {
   "codemirror_mode": {
    "name": "ipython",
    "version": 2
   },
   "file_extension": ".py",
   "mimetype": "text/x-python",
   "name": "python",
   "nbconvert_exporter": "python",
   "pygments_lexer": "ipython2",
   "version": "2.7.13"
  }
 },
 "nbformat": 4,
 "nbformat_minor": 2
}
