{
 "cells": [
  {
   "cell_type": "code",
   "execution_count": 1,
   "metadata": {
    "collapsed": true
   },
   "outputs": [],
   "source": [
    "import pymc3 as pm\n",
    "import numpy as np\n",
    "%matplotlib inline\n",
    "from IPython.core.pylabtools import figsize\n",
    "import matplotlib.pyplot as plt\n",
    "import scipy.stats as stats\n",
    "figsize(12.5, 4)"
   ]
  },
  {
   "cell_type": "code",
   "execution_count": 2,
   "metadata": {
    "collapsed": true
   },
   "outputs": [],
   "source": [
    "??pm.Normal"
   ]
  },
  {
   "cell_type": "markdown",
   "metadata": {},
   "source": [
    "## ET Error"
   ]
  },
  {
   "cell_type": "code",
   "execution_count": 97,
   "metadata": {
    "collapsed": false
   },
   "outputs": [],
   "source": [
    "et_prior_mean_AR = 0\n",
    "et_prior_sd_AR = 0.2\n",
    "et_log_mean= np.log(prior_mean_AR)\n",
    "et_log_sd= np.log(prior_sd_AR)\n",
    "\n",
    "with pm.Model() as model:\n",
    "    et_prior = pm.Normal(\"et_prior\", mu=et_prior_mean_AR, sd=et_prior_sd_AR)"
   ]
  },
  {
   "cell_type": "code",
   "execution_count": 98,
   "metadata": {
    "collapsed": false
   },
   "outputs": [],
   "source": [
    "et_samples = [et_prior.random() for i in xrange(4000)]"
   ]
  },
  {
   "cell_type": "code",
   "execution_count": 100,
   "metadata": {
    "collapsed": false
   },
   "outputs": [
    {
     "data": {
      "image/png": "[encoded data removed]",
      "text/plain": [
       "<matplotlib.figure.Figure at 0x13055cc0>"
      ]
     },
     "metadata": {},
     "output_type": "display_data"
    }
   ],
   "source": [
    "plt.hist(et_samples, bins=40, normed=True, histtype=\"stepfilled\")\n",
    "plt.title(\"Prior distribution for $\\epsilon_{et}$\", fontsize=20)\n",
    "figsize(12.5, 4)"
   ]
  },
  {
   "cell_type": "markdown",
   "metadata": {},
   "source": [
    "**TODO:** Add ET error data to get posterior distribution"
   ]
  },
  {
   "cell_type": "code",
   "execution_count": null,
   "metadata": {
    "collapsed": true
   },
   "outputs": [],
   "source": []
  },
  {
   "cell_type": "markdown",
   "metadata": {},
   "source": [
    "## Boundary Error"
   ]
  },
  {
   "cell_type": "markdown",
   "metadata": {},
   "source": [
    "Utility boundary polygons are not guaranteed to be correct, however we assume that many (most?) of them are. Thus we model the actual utility landscape area $LA^\\star$ as a function of our estimated utility landscape area ($\\hat{LA}$) plus a relative error term:\n",
    "\n",
    "$$LA^\\star = \\hat{LA} + \\hat{LA} \\times \\epsilon_{boundary} = \\hat{LA} \\times (1 + \\epsilon_{boundary})$$\n",
    "\n",
    "\n",
    "Since we don't have data on how our boundary error is distrubuted, we must assume a prior. We could model $ \\epsilon_{boundary}$ as normally distributed, but that would ignore our prior knowledge that most of the boundaries are correct. Instead we model $ \\epsilon_{boundary}$ as\n",
    "\n",
    "$$\\epsilon_{boundary} = Bernoulli(p_b) \\times N(\\mu_b, \\sigma_b^2)$$\n",
    "\n",
    "Where \n",
    "\n",
    "$p_b$ is the probability of the boundary being **incorrect**, and\n",
    "\n",
    "$N(\\mu_b, \\sigma_b^2)$ describes the distribution of the relative magnitude of the error."
   ]
  },
  {
   "cell_type": "markdown",
   "metadata": {},
   "source": [
    "We assume values for our prior parameters"
   ]
  },
  {
   "cell_type": "code",
   "execution_count": 105,
   "metadata": {
    "collapsed": true
   },
   "outputs": [],
   "source": [
    "p_b = 0.5\n",
    "mu_b = 0\n",
    "sd_b = 0.1"
   ]
  },
  {
   "cell_type": "code",
   "execution_count": 106,
   "metadata": {
    "collapsed": false
   },
   "outputs": [],
   "source": [
    "with pm.Model() as model:\n",
    "    has_boundary_error = pm.Bernoulli(\"has_boundary_error\", p=p_b)\n",
    "    boundary_error_dist = pm.Normal(\"boundary_error_dist\", mu=mu_b, sd=sd_b)\n",
    "#     boundary_prior = pm.Deterministic(\"boundary_prior\", has_boundary_error*boundary_error_dist)"
   ]
  },
  {
   "cell_type": "code",
   "execution_count": 107,
   "metadata": {
    "collapsed": false
   },
   "outputs": [],
   "source": [
    "boundary_samples = [has_boundary_error.random()*boundary_error_dist.random() for i in xrange(4000)]"
   ]
  },
  {
   "cell_type": "code",
   "execution_count": 109,
   "metadata": {
    "collapsed": false
   },
   "outputs": [
    {
     "data": {
      "image/png": "[encoded data removed]",
      "text/plain": [
       "<matplotlib.figure.Figure at 0x11ef2a20>"
      ]
     },
     "metadata": {},
     "output_type": "display_data"
    }
   ],
   "source": [
    "plt.hist(boundary_samples, bins=23, normed=True, histtype=\"stepfilled\")\n",
    "plt.title(\"Prior distribution for $\\epsilon_{boundary}$\", fontsize=16)\n",
    "figsize(12.5, 4)"
   ]
  },
  {
   "cell_type": "code",
   "execution_count": 69,
   "metadata": {
    "collapsed": false
   },
   "outputs": [],
   "source": [
    "# with model:\n",
    "#     trace = pm.sample(10000)\n",
    "#     burned_trace=trace[1000:]"
   ]
  },
  {
   "cell_type": "code",
   "execution_count": 66,
   "metadata": {
    "collapsed": false
   },
   "outputs": [],
   "source": [
    "# boundary_samples = burned_trace[\"boundary_prior\"]"
   ]
  },
  {
   "cell_type": "markdown",
   "metadata": {},
   "source": [
    "## Classification error"
   ]
  },
  {
   "cell_type": "code",
   "execution_count": 140,
   "metadata": {
    "collapsed": true
   },
   "outputs": [],
   "source": [
    "??pm.Exponential"
   ]
  },
  {
   "cell_type": "code",
   "execution_count": 67,
   "metadata": {
    "collapsed": false
   },
   "outputs": [
    {
     "data": {
      "text/plain": [
       "0.038000000000000006"
      ]
     },
     "execution_count": 67,
     "metadata": {},
     "output_type": "execute_result"
    }
   ],
   "source": [
    "np.exp(np.log(.038))"
   ]
  },
  {
   "cell_type": "code",
   "execution_count": 88,
   "metadata": {
    "collapsed": true
   },
   "outputs": [],
   "source": [
    "with pm.Model() as model:\n",
    "    class_sd = pm.Exponential(\"class_sd\", lam=7.6)\n",
    "    class_sd2 = pm.Lognormal(\"class_sd2\", mu=np.log(.038), sd=0.4 )\n",
    "    class_dist = pm.Normal(\"class_dist\", mu=0, sd=2*0.038)"
   ]
  },
  {
   "cell_type": "code",
   "execution_count": 89,
   "metadata": {
    "collapsed": false
   },
   "outputs": [],
   "source": [
    "class_samples = [class_dist.random() for i in xrange(4000)]"
   ]
  },
  {
   "cell_type": "code",
   "execution_count": 90,
   "metadata": {
    "collapsed": false
   },
   "outputs": [
    {
     "data": {
      "text/plain": [
       "array([-0.15285675,  0.14875167])"
      ]
     },
     "execution_count": 90,
     "metadata": {},
     "output_type": "execute_result"
    }
   ],
   "source": [
    "np.percentile(class_samples, [2.5,97.5])"
   ]
  },
  {
   "cell_type": "code",
   "execution_count": 91,
   "metadata": {
    "collapsed": false
   },
   "outputs": [
    {
     "data": {
      "image/png": "[encoded data removed]",
      "text/plain": [
       "<matplotlib.figure.Figure at 0xf2a2ac8>"
      ]
     },
     "metadata": {},
     "output_type": "display_data"
    }
   ],
   "source": [
    "plt.hist(class_samples, bins=70, normed=True, histtype=\"stepfilled\")\n",
    "plt.title(\"Prior distribution for $\\epsilon_{c}$\", fontsize=16)\n",
    "figsize(12.5, 4)"
   ]
  },
  {
   "cell_type": "code",
   "execution_count": 24,
   "metadata": {
    "collapsed": false
   },
   "outputs": [
    {
     "data": {
      "text/plain": [
       "array([-0.06114859,  0.06132485])"
      ]
     },
     "execution_count": 24,
     "metadata": {},
     "output_type": "execute_result"
    }
   ],
   "source": [
    "np.percentile(class_samples, [5,95])"
   ]
  },
  {
   "cell_type": "code",
   "execution_count": 135,
   "metadata": {
    "collapsed": false
   },
   "outputs": [],
   "source": [
    "acc = np.array([[307, 50],[25,615]],  np.int32)"
   ]
  },
  {
   "cell_type": "code",
   "execution_count": 138,
   "metadata": {
    "collapsed": false
   },
   "outputs": [
    {
     "data": {
      "text/plain": [
       "640"
      ]
     },
     "execution_count": 138,
     "metadata": {},
     "output_type": "execute_result"
    }
   ],
   "source": [
    "Other = 0\n",
    "PSAV = 1\n",
    "\n",
    "j = PSAV #class of interest is PSAV area\n",
    "\n",
    "W_other = \n",
    "\n",
    "\n",
    "s_pj = snp.sum(acc[1])"
   ]
  },
  {
   "cell_type": "markdown",
   "metadata": {},
   "source": [
    "CGU provided a pixel-based classification accuracy of 89%. Restated this means that 11% of pixels are incorrectly classified. However, we can't directly translate a pixel-based classification error of 0.11 into error bounds on landscape area (e.g. $\\pm$11%). Fortunately, we can work around this by embedding our pixel error into a probabilistic framework describing how aggregate landscape area responds to changes in pixel classification error."
   ]
  },
  {
   "cell_type": "markdown",
   "metadata": {},
   "source": [
    "To begin, we treat our classifier $CILA$ as binary (1 = Landscape Area, 0 = Other area). For a given pixel $i$, we model the classification as the true value of the pixel, $T \\in \\{1,0\\}$ plus an error term\n",
    "\n",
    "$$CILA_i = T_i +  S(T_i)*\\epsilon_c$$\n",
    "\n",
    "where $S$ is an indicator function equal to $1$ if $T_i=0$, and $-1$ if $T_i=1$\n",
    "\n",
    "Doing this allows us to model $\\epsilon_c$ as a Bernoulli random variable equal to $1$ for a misclassification. That is \n",
    "\n",
    "$$\\epsilon_c = Bernoulli(0.11)$$\n",
    "\n",
    "To get the error for\n",
    "\n"
   ]
  },
  {
   "cell_type": "markdown",
   "metadata": {},
   "source": [
    "$$\\epsilon_p = Bernoulli(0.11) * (2 * Bernoulli(0.5) - 1)$$\n"
   ]
  },
  {
   "cell_type": "code",
   "execution_count": 123,
   "metadata": {
    "collapsed": true
   },
   "outputs": [],
   "source": [
    "p_c = 0.11\n",
    "mu_ac = 0.6\n",
    "sd_ac = 0.1"
   ]
  },
  {
   "cell_type": "code",
   "execution_count": 126,
   "metadata": {
    "collapsed": false
   },
   "outputs": [],
   "source": [
    "with pm.Model() as model:\n",
    "    class_is_incorrect = pm.Bernoulli(\"class_is_incorrect\", p=p_c)\n",
    "#     autocorrelation = pm.Normal(\"autocorrelation\", mu=mu_ac, sd=sd_ac)\n",
    "    class_error_direction = pm.Bernoulli(\"class_error_direction\", p=0.7)\n",
    "    \n",
    "    utility_class_error"
   ]
  },
  {
   "cell_type": "code",
   "execution_count": 127,
   "metadata": {
    "collapsed": false
   },
   "outputs": [],
   "source": [
    "class_samples = [class_is_incorrect.random()*(2*class_error_direction.random() - 1) for i in xrange(4000)]"
   ]
  },
  {
   "cell_type": "code",
   "execution_count": 128,
   "metadata": {
    "collapsed": false
   },
   "outputs": [
    {
     "data": {
      "text/plain": [
       "208"
      ]
     },
     "execution_count": 128,
     "metadata": {},
     "output_type": "execute_result"
    }
   ],
   "source": [
    "np.sum(class_samples)"
   ]
  },
  {
   "cell_type": "code",
   "execution_count": 129,
   "metadata": {
    "collapsed": false,
    "scrolled": true
   },
   "outputs": [
    {
     "data": {
      "image/png": "[encoded data removed]",
      "text/plain": [
       "<matplotlib.figure.Figure at 0x130c3748>"
      ]
     },
     "metadata": {},
     "output_type": "display_data"
    }
   ],
   "source": [
    "plt.hist(class_samples, bins=70, normed=True, histtype=\"stepfilled\")\n",
    "plt.title(\"Prior distribution for $\\epsilon_{boundary}$\", fontsize=16)\n",
    "figsize(12.5, 4)"
   ]
  },
  {
   "cell_type": "markdown",
   "metadata": {
    "collapsed": true
   },
   "source": [
    "## Overall Error"
   ]
  },
  {
   "cell_type": "markdown",
   "metadata": {},
   "source": [
    "The equation for the the estimated outdoor efficiency targets used in this methodology is\n",
    "\n",
    "$$Outdoor Target = Outdoor Standard * \\hat{LA} * \\hat{ET} * Conversion Factor$$\n",
    "\n",
    "Combining the outdoor standard and the conversion factor into a constant $C$, and substituting in our error models gives\n",
    "\n",
    "$$Outdoor Target = C * LA * (1 + \\epsilon_{classification} * \\epsilon_{boundary} * \\epsilon_{landuse}) * ET*(1 + \\epsilon_{et})$$"
   ]
  },
  {
   "cell_type": "code",
   "execution_count": 105,
   "metadata": {
    "collapsed": false
   },
   "outputs": [],
   "source": [
    "with pm.Model() as model:\n",
    "    et_prior = pm.Lognormal(\"et_prior\", mu=0, sd=0.1)\n",
    "#     has_boundary_error = pm.Bernoulli(\"has_boundary_error\", p=0.5)\n",
    "    boundary_prior = pm.Lognormal(\"boundary_prior\", mu=0, sd=0.1)\n",
    "    landuse_prior = pm.Lognormal(\"landuse_prior\", mu=0, sd=0.1)\n",
    "    classification_prior = pm.Lognormal(\"classification_prior\", mu=0, sd=2*0.038)"
   ]
  },
  {
   "cell_type": "code",
   "execution_count": 110,
   "metadata": {
    "collapsed": true
   },
   "outputs": [],
   "source": [
    "class_samples = [et_prior.random()*boundary_prior.random()*landuse_prior.random()*classification_prior.random() for i in xrange(10000)]"
   ]
  },
  {
   "cell_type": "code",
   "execution_count": 111,
   "metadata": {
    "collapsed": false,
    "scrolled": true
   },
   "outputs": [
    {
     "data": {
      "image/png": "[encoded data removed]",
      "text/plain": [
       "<matplotlib.figure.Figure at 0x10874ba8>"
      ]
     },
     "metadata": {},
     "output_type": "display_data"
    }
   ],
   "source": [
    "plt.hist(np.log(class_samples), bins=70, normed=True, histtype=\"stepfilled\")\n",
    "plt.title(\"Prior distribution for $\\epsilon_{boundary}$\", fontsize=16)\n",
    "figsize(12.5, 4)"
   ]
  },
  {
   "cell_type": "code",
   "execution_count": 112,
   "metadata": {
    "collapsed": false
   },
   "outputs": [
    {
     "data": {
      "text/plain": [
       "array([-0.38204793,  0.3720369 ])"
      ]
     },
     "execution_count": 112,
     "metadata": {},
     "output_type": "execute_result"
    }
   ],
   "source": [
    "np.percentile(np.log(class_samples), [2.5,97.5])"
   ]
  }
 ],
 "metadata": {
  "kernelspec": {
   "display_name": "Python 2",
   "language": "python",
   "name": "python2"
  },
  "language_info": {
   "codemirror_mode": {
    "name": "ipython",
    "version": 2
   },
   "file_extension": ".py",
   "mimetype": "text/x-python",
   "name": "python",
   "nbconvert_exporter": "python",
   "pygments_lexer": "ipython2",
   "version": "2.7.13"
  }
 },
 "nbformat": 4,
 "nbformat_minor": 2
}
